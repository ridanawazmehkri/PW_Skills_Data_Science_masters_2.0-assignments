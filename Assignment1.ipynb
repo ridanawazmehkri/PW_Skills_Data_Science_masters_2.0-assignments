{
 "cells": [
  {
   "cell_type": "markdown",
   "id": "e2110c1c-356f-487f-aae0-0a82fe571848",
   "metadata": {},
   "source": [
    "Q1. Create one variable containing following type of data:\n",
    "(i) string\n",
    "(ii) list\n",
    "(iii) float\n",
    "(iv) tuple"
   ]
  },
  {
   "cell_type": "code",
   "execution_count": 23,
   "id": "329d170c-6301-476a-b1f0-190284458202",
   "metadata": {},
   "outputs": [
    {
     "name": "stdout",
     "output_type": "stream",
     "text": [
      "<class 'str'> <class 'list'> <class 'float'> <class 'tuple'>\n"
     ]
    }
   ],
   "source": [
    "# string\n",
    "string='Physics walla'\n",
    "#list\n",
    "lis=[1,2,3,2,1,3]\n",
    "#float\n",
    "floa=4.5\n",
    "#tuple\n",
    "tup=(1,2,3,4)\n",
    "print(type(string),type(lis),type(floa),type(tup))"
   ]
  },
  {
   "cell_type": "markdown",
   "id": "5864e774-03be-4f4f-8752-e8b3e622552f",
   "metadata": {},
   "source": [
    "Q2. Given are some following variables containing data:\n",
    "(i) var1 = ‘ ‘\n",
    "(ii) var2 = ‘[ DS , ML , Python]’\n",
    "(iii) var3 = [ ‘DS’ , ’ML’ , ‘Python’ ]\n",
    "(iv) var4 = 1.\n",
    "What will be the data type of the above given variable."
   ]
  },
  {
   "cell_type": "code",
   "execution_count": 10,
   "id": "34d01f5f-08c1-4073-bca5-7031b98a87e2",
   "metadata": {},
   "outputs": [
    {
     "name": "stdout",
     "output_type": "stream",
     "text": [
      "<class 'str'> <class 'str'> <class 'list'> <class 'int'>\n"
     ]
    }
   ],
   "source": [
    "var1 = ' '\n",
    "var2 = '[ DS , ML , Python]'\n",
    "var3 = [ 'DS' , 'ML' , 'Python' ]\n",
    "var4 = 1\n",
    "print(type(var1),type(var2),type(var3),type(var4))"
   ]
  },
  {
   "cell_type": "markdown",
   "id": "567cc6c1-0d9f-45fa-9111-9e7bf187a561",
   "metadata": {},
   "source": [
    "Q3. Explain the use of the following operators using an example:\n",
    "(i) /\n",
    "(ii) %\n",
    "(iii) //\n",
    "(iv) **"
   ]
  },
  {
   "cell_type": "code",
   "execution_count": 14,
   "id": "962cb2d1-69a2-4dd1-be6c-05f6509466ae",
   "metadata": {},
   "outputs": [
    {
     "name": "stdout",
     "output_type": "stream",
     "text": [
      "2.5\n",
      "1\n",
      "2\n",
      "25\n"
     ]
    }
   ],
   "source": [
    "# /\n",
    "#divion\n",
    "print(5/2)\n",
    "# % extracts the remainder\n",
    "print(5%2)\n",
    "#// floor divisiom\n",
    "print(5//2)\n",
    "# ** power\n",
    "print(5**2)"
   ]
  },
  {
   "cell_type": "markdown",
   "id": "75844abd-12c3-4d33-83d2-be332f543d0d",
   "metadata": {},
   "source": [
    "Q4. Create a list of length 10 of your choice containing multiple types of data. Using for loop print the\n",
    "element and its data type."
   ]
  },
  {
   "cell_type": "code",
   "execution_count": 24,
   "id": "fff3329a-d833-4e08-8b02-337146165b2e",
   "metadata": {},
   "outputs": [
    {
     "name": "stdout",
     "output_type": "stream",
     "text": [
      "[1, 2, 3, 2, 1, 3, 'Physics walla', 4.5, ' ', 1]\n",
      "<class 'int'>\n",
      "<class 'int'>\n",
      "<class 'int'>\n",
      "<class 'int'>\n",
      "<class 'int'>\n",
      "<class 'int'>\n",
      "<class 'str'>\n",
      "<class 'float'>\n",
      "<class 'str'>\n",
      "<class 'int'>\n"
     ]
    }
   ],
   "source": [
    "lis.append(string)\n",
    "lis.append(floa)\n",
    "lis.append(var1)\n",
    "lis.append(var4)\n",
    "print(lis)\n",
    "for i in lis:\n",
    "    print(type(i))"
   ]
  },
  {
   "cell_type": "markdown",
   "id": "44a4435b-2b9f-4738-bcf7-996db4ed1cd1",
   "metadata": {},
   "source": [
    "Q5. Using a while loop, verify if the number A is purely divisible by number B and if so then how many\n",
    "times it can be divisible."
   ]
  },
  {
   "cell_type": "code",
   "execution_count": 6,
   "id": "ba64b931-916b-4b05-a379-822358ba1965",
   "metadata": {},
   "outputs": [
    {
     "name": "stdout",
     "output_type": "stream",
     "text": [
      "3\n"
     ]
    }
   ],
   "source": [
    "A=8\n",
    "B=2\n",
    "count=0\n",
    "while A!=1:\n",
    "    if A%B==0:\n",
    "        A=A//B\n",
    "        count+=1\n",
    "print(count)\n",
    "        "
   ]
  },
  {
   "cell_type": "markdown",
   "id": "5b593579-7539-4070-9a9c-127ddb9003aa",
   "metadata": {},
   "source": [
    "Q6. Create a list containing 25 int type data. Using for loop and if-else condition print if the element is\n",
    "divisible by 3 or not."
   ]
  },
  {
   "cell_type": "code",
   "execution_count": 7,
   "id": "cff6273e-aea1-4cba-a034-453e2134f705",
   "metadata": {},
   "outputs": [
    {
     "name": "stdout",
     "output_type": "stream",
     "text": [
      "0 True\n",
      "1 False\n",
      "2 False\n",
      "3 True\n",
      "4 False\n",
      "5 False\n",
      "6 True\n",
      "7 False\n",
      "8 False\n",
      "9 True\n",
      "10 False\n",
      "11 False\n",
      "12 True\n",
      "13 False\n",
      "14 False\n",
      "15 True\n",
      "16 False\n",
      "17 False\n",
      "18 True\n",
      "19 False\n",
      "20 False\n",
      "21 True\n",
      "22 False\n",
      "23 False\n",
      "24 True\n"
     ]
    }
   ],
   "source": [
    "lis=[]\n",
    "for i in range(0,25):\n",
    "    lis.append(i)\n",
    "for i in lis:\n",
    "    if i%3==0:\n",
    "        print(i,'True')\n",
    "    else:\n",
    "        print(i,'False')"
   ]
  },
  {
   "cell_type": "markdown",
   "id": "74d5419c-8b9b-4350-b6fe-8d2929891170",
   "metadata": {},
   "source": [
    "Q7. What do you understand about mutable and immutable data types? Give examples for both showing\n",
    "this property."
   ]
  },
  {
   "cell_type": "code",
   "execution_count": 8,
   "id": "4eba5efd-3b88-496c-93b7-86e1b501d4d7",
   "metadata": {},
   "outputs": [
    {
     "name": "stdout",
     "output_type": "stream",
     "text": [
      "[1, 2, 3, 4]\n",
      "[1, 5, 3, 4]\n"
     ]
    }
   ],
   "source": [
    "#Mutable data types can be changed even after declaration like Lists\n",
    "#example:\n",
    "lis=[1,2,3,4]\n",
    "print(lis)\n",
    "lis[1]=5\n",
    "print(lis)"
   ]
  },
  {
   "cell_type": "code",
   "execution_count": 12,
   "id": "bd6ce42e-a45b-4284-a2e7-b06dc42adf52",
   "metadata": {},
   "outputs": [
    {
     "name": "stdout",
     "output_type": "stream",
     "text": [
      "2\n"
     ]
    },
    {
     "ename": "TypeError",
     "evalue": "'tuple' object does not support item assignment",
     "output_type": "error",
     "traceback": [
      "\u001b[0;31m---------------------------------------------------------------------------\u001b[0m",
      "\u001b[0;31mTypeError\u001b[0m                                 Traceback (most recent call last)",
      "Cell \u001b[0;32mIn[12], line 5\u001b[0m\n\u001b[1;32m      3\u001b[0m tup\u001b[38;5;241m=\u001b[39m(\u001b[38;5;241m1\u001b[39m,\u001b[38;5;241m2\u001b[39m,\u001b[38;5;241m3\u001b[39m,\u001b[38;5;241m4\u001b[39m)\n\u001b[1;32m      4\u001b[0m \u001b[38;5;28mprint\u001b[39m(tup[\u001b[38;5;241m1\u001b[39m])\n\u001b[0;32m----> 5\u001b[0m \u001b[43mtup\u001b[49m\u001b[43m[\u001b[49m\u001b[38;5;241;43m1\u001b[39;49m\u001b[43m]\u001b[49m\u001b[38;5;241m=\u001b[39m\u001b[38;5;241m5\u001b[39m\n\u001b[1;32m      6\u001b[0m \u001b[38;5;28mprint\u001b[39m(tup)\n",
      "\u001b[0;31mTypeError\u001b[0m: 'tuple' object does not support item assignment"
     ]
    }
   ],
   "source": [
    "#immutable data types cannot be changed once declared like tuple\n",
    "#example\n",
    "tup=(1,2,3,4)\n",
    "print(tup[1])\n",
    "tup[1]=5\n",
    "print(tup)"
   ]
  },
  {
   "cell_type": "code",
   "execution_count": null,
   "id": "70d9cfd8-219e-4323-8ee6-3a299e704b14",
   "metadata": {},
   "outputs": [],
   "source": []
  }
 ],
 "metadata": {
  "kernelspec": {
   "display_name": "Python 3 (ipykernel)",
   "language": "python",
   "name": "python3"
  },
  "language_info": {
   "codemirror_mode": {
    "name": "ipython",
    "version": 3
   },
   "file_extension": ".py",
   "mimetype": "text/x-python",
   "name": "python",
   "nbconvert_exporter": "python",
   "pygments_lexer": "ipython3",
   "version": "3.10.8"
  }
 },
 "nbformat": 4,
 "nbformat_minor": 5
}
